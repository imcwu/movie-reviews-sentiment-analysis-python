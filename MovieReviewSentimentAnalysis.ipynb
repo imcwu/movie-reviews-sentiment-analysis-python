{
 "cells": [
  {
   "cell_type": "markdown",
   "id": "8b81cb89-1fb2-4880-b349-c792afa671cf",
   "metadata": {
    "tags": []
   },
   "source": [
    "# Movie Reviews Sentiment Analysis Project\n",
    "### Dataset: https://ai.stanford.edu/~amaas/data/sentiment/"
   ]
  },
  {
   "cell_type": "code",
   "execution_count": 5,
   "id": "7323806e-530c-4e8b-ab1c-e68b50d4a628",
   "metadata": {
    "tags": []
   },
   "outputs": [
    {
     "name": "stdout",
     "output_type": "stream",
     "text": [
      "Test:\n",
      "{'filename': '4715_9.txt', 'folder': 'pos', 'true_label': 1, 'predicted_label': 1, 'pos_count': 2, 'neg_count': 0}\n",
      "{'filename': '12390_8.txt', 'folder': 'pos', 'true_label': 1, 'predicted_label': 1, 'pos_count': 6, 'neg_count': 0}\n",
      "{'filename': '8329_7.txt', 'folder': 'pos', 'true_label': 1, 'predicted_label': -1, 'pos_count': 0, 'neg_count': 0}\n"
     ]
    }
   ],
   "source": [
    "# Revised final code:\n",
    "\n",
    "# load packages\n",
    "import os\n",
    "import re\n",
    "from collections import defaultdict\n",
    "\n",
    "\n",
    "base_path = os.path.expanduser('~/Downloads/aclImdb/train')\n",
    "pos_folder = os.path.join(base_path, 'pos')\n",
    "neg_folder = os.path.join(base_path, 'neg')\n",
    "\n",
    "# make lists - I thought of as many words in both categories as I could that would make sense.\n",
    "pos_words = [\"brilliant\", \"charming\", \"stunning\", \"remarkable\", \"vivid\", \"breathtaking\", \"mindblowing\", \"inspiring\", \"gripping\", \"heartfelt\", \"immersive\", \"memorable\", \n",
    "             \"masterpiece\" \"impressive\", \"superb\", \"lovable\", \"clever\", \"witty\", \"satisfying\", \"topnotch\", \"well done\", \"mustwatch\", \"tender\", \"flawless\", \n",
    "             \"incredible\", \"soulful\", \"amazing\", \"happy\", \"moving\", \"great\", \"astonishing\", \"astonished\", \"exciting\", \"majestic\", \"well\", \"fun\", \"good acting\", \"quality\",\"hot\",\n",
    "             \"interesting\", \"entertaining\", \"fantastic\", \"captivating\", \"good\", \"heartwarming\", \"original\", \"moving\", \"touching\", \"best\", \"most\", \n",
    "             \"powerful\", \"engaging\", \"funny\", \"hilarious\", \"insightful\", \"creative\", \"delightful\", \"beautiful\", \"cinematic\", \"worth it\", \"outstanding\", \n",
    "             \"phenomenal\", \"like\", \"liked\", \"enjoyed\", \"enjoy\", \"bold\", \"love\", \"loved every minute\", \"kept me hooked\", \"highly recommend\"]\n",
    "neg_words = [\"not exciting\", \"cringy\", \"messy\", \"incoherent\", \"unbearable\", \"forgetful\", \"pissed\", \"no sense\", \"out of touch\", \"uncertain\", \"forgettable\", \"annoying\", \"letdown\", \"all over the place\", \"dreadful\", \"mindnumbing\", \"overhyped\", \"tedious\", \"flat\", \"lifeless\", \"uninspired\", \"hollow\",\n",
    "             \"lackluster\", \"pointless\", \"mishandled\", \"cheesy\", \"overacted\", \"sluggish\", \"dismal\", \"offensive\", \"downhill\", \"cringed\", \"cringe\", \"confusing\", \"irritating\", \"eyerolling\", \"tonedeaf\", \"soulless\",\"boring\", \n",
    "             \"bad\", \"terrible\", \"lame\", \"bomb\", \"fail\", \"not interesting\", \"bore\", \"cliche\", \"predictable\", \"wouldnt\", \"least\", \"shouldnt\", \"would not\", \"should not\", \"low\", \"never\", \"cheap\", \n",
    "             \"waste of time\", \"worst\", \"dont\", \"idiotic\", \"bother\", \"mediocre\", \"shitty\", \"fucked up\", \"wasnt good\", \"unrealistic\", \"unoriginal\", \"bland\", \"stupid\", \"disgusting\", \"failure\", \"upset\", \"upsetting\", \"disappointed\", \n",
    "             \"disappointing\", \"disappointment\", \"below average\", \"mid\", \"unsatisfactory\", \"awful\", \"not good\", \"weak\", \"lacking\", \"lacks\", \"poor\", \"poorly\", \"unconvincing\", \"hated\", \"disliked\", \"dislike\", \n",
    "             \"didnt\"]\n",
    "# make function to analyze text, containing the rule for categorizing a word as either positive or negative\n",
    "def analyze_sentiment(text):\n",
    "    words = re.findall(r'\\b\\w+\\b', text.lower())\n",
    "    pos_count = sum(1 for word in words if word in pos_words)\n",
    "    neg_count = sum(1 for word in words if word in neg_words)\n",
    "    \n",
    "    if pos_count > neg_count:\n",
    "        return 1, pos_count, neg_count    # positive - any text file that has more positive words than negative words is positive.\n",
    "    else:\n",
    "        return -1, pos_count, neg_count    # negative - any text file that has less or equal positive words than negative is negative. \n",
    "    # The reason why I included equal is because there are some phrases like \"not good\" or \"not fun\" that are made up of both a pos. and a neg. word when it is technically a negative phrase.\n",
    "results = []\n",
    "\n",
    "# applying the function to the positive reviews folder and appending the results into the list:\n",
    "for filename in os.listdir(pos_folder):\n",
    "    if filename.endswith('.txt'):\n",
    "        filepath = os.path.join(pos_folder, filename)\n",
    "        with open(filepath, 'r', encoding='utf-8') as file:\n",
    "            content = file.read()\n",
    "            sentiment, pos, neg = analyze_sentiment(content)\n",
    "            results.append({\n",
    "                'filename': filename,\n",
    "                'folder': 'pos',\n",
    "                'true_label': 1,\n",
    "                'predicted_label': sentiment,\n",
    "                'pos_count': pos,\n",
    "                'neg_count': neg})\n",
    "\n",
    "# applying the function to the negative reviews folder and appending the results into the list:\n",
    "for filename in os.listdir(neg_folder):\n",
    "    if filename.endswith('.txt'):\n",
    "        filepath = os.path.join(neg_folder, filename)\n",
    "        with open(filepath, 'r', encoding='utf-8') as file:\n",
    "            content = file.read()\n",
    "            sentiment, pos, neg = analyze_sentiment(content)\n",
    "            results.append({\n",
    "                'filename': filename,\n",
    "                'folder': 'neg',\n",
    "                'true_label': -1,\n",
    "                'predicted_label': sentiment,\n",
    "                'pos_count': pos,\n",
    "                'neg_count': neg})\n",
    "# test\n",
    "print(\"Test:\")\n",
    "for entry in results[:3]:\n",
    "    print(entry)\n",
    "\n",
    "# save the results list as a dataframe as a csv file \n",
    "import pandas as pd\n",
    "df = pd.DataFrame(results)\n",
    "df.to_csv('sentiment_results.csv', index=False)"
   ]
  },
  {
   "cell_type": "code",
   "execution_count": 294,
   "id": "c245db03-b302-4c30-be2b-dd7f1ff8fcb6",
   "metadata": {
    "tags": []
   },
   "outputs": [
    {
     "name": "stdout",
     "output_type": "stream",
     "text": [
      "Accurate positive reviews: 11261/12500\n",
      "Accurate negative reviews: 5750/12500\n",
      "Overall accuracy: 68.0%\n"
     ]
    }
   ],
   "source": [
    "# count total review accuracy and accuracy by category\n",
    "import pandas as pd\n",
    "\n",
    "results = pd.read_csv('sentiment_results.csv')\n",
    "correct_pos = sum((results['folder'] == 'pos') & (results['predicted_label'] == 1))\n",
    "correct_neg = sum((results['folder'] == 'neg') & (results['predicted_label'] == -1))\n",
    "total_pos = sum(results['folder'] == 'pos')\n",
    "total_neg = sum(results['folder'] == 'neg')\n",
    "total_files = total_pos + total_neg\n",
    "\n",
    "accuracy = (correct_pos + correct_neg) / total_files\n",
    "print(f\"Accurate positive reviews: {correct_pos}/{total_pos}\")\n",
    "print(f\"Accurate negative reviews: {correct_neg}/{total_neg}\")\n",
    "print(f\"Overall accuracy: {accuracy:.1%}\")"
   ]
  },
  {
   "cell_type": "markdown",
   "id": "93fbe1d4-ffd1-4cb5-9605-dc0e97677eb7",
   "metadata": {},
   "source": [
    "## Conclusions: \n",
    "It is harder to determine if a comment is negative because there are so many ambiguous words that can be used to express a reviewer's dissatisfaction with a film, because they can mention specific scenes or details about the movie that they didn't like, while for positive reviews, usually they mention the same adjectives like \"amazing\", \"fantastic\", or \"great\" to describe the film overall. Additionally, filtering the text in the beginning to remove all capitalization and special symbols help prevent discrepancies and misses from occurring during the process."
   ]
  },
  {
   "cell_type": "code",
   "execution_count": null,
   "id": "7706307f-433d-43d5-b517-da286e7f1a2f",
   "metadata": {},
   "outputs": [],
   "source": []
  }
 ],
 "metadata": {
  "kernelspec": {
   "display_name": "Python 3 (ipykernel)",
   "language": "python",
   "name": "python3"
  },
  "language_info": {
   "codemirror_mode": {
    "name": "ipython",
    "version": 3
   },
   "file_extension": ".py",
   "mimetype": "text/x-python",
   "name": "python",
   "nbconvert_exporter": "python",
   "pygments_lexer": "ipython3",
   "version": "3.11.7"
  }
 },
 "nbformat": 4,
 "nbformat_minor": 5
}
